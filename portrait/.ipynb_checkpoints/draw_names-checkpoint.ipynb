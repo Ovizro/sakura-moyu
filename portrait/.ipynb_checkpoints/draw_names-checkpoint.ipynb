{
 "cells": [
  {
   "cell_type": "code",
   "execution_count": null,
   "id": "30b09e61",
   "metadata": {},
   "outputs": [],
   "source": [
    "import os\n",
    "from PIL import Image, ImageDraw, ImageFont"
   ]
  },
  {
   "cell_type": "code",
   "execution_count": null,
   "id": "004e5508",
   "metadata": {},
   "outputs": [],
   "source": [
    "array = [8, 4]\n",
    "unit = [135, 165]\n",
    "border = [10, 12]\n",
    "\n",
    "font = ImageFont.truetype(font=\"msyh.ttc\", size=12)\n",
    "image_path = [\"opt_m_pts1.png\", \"opt_m_pts2.png\", \"opt_o_pts1.png\", \"opt_o_pts2.png\", \"opt_s_pts1.png\", \"opt_s_pts2.png\"]\n",
    "image_text = [\n",
    "    [\n",
    "        [\"小黑\", \"柊 春\", \"杏藤 千和\", \"夜月 姬织\"],\n",
    "        [\"真白\", \"冬月 十夜\", \"阳向井 朝日\", \"兔蛙 梓咲\"],\n",
    "    ],\n",
    "    [\n",
    "        [\"七七\", \"兔蛙 智仁\", \"索尔\", \"纳哈特\"],\n",
    "        [\"奏 大雅\", \"其他男性\", \"其他女性\", \"\"],\n",
    "    ],\n",
    "    [\n",
    "        [\"\", \"\", \"\", \"\"],\n",
    "        [\"\", \"\", \"\", \"\"],\n",
    "    ],\n",
    "    [\n",
    "        [\"\", \"\", \"\", \"\"],\n",
    "        [\"\", \"其他男性\", \"其他女性\", \"\"],\n",
    "    ],\n",
    "    [\n",
    "        [\"小黑\", \"柊 春\", \"杏藤 千和\", \"夜月 姬织\"],\n",
    "        [\"真白\", \"冬月 十夜\", \"阳向井 朝日\", \"兔蛙 梓咲\"],\n",
    "    ],\n",
    "    [\n",
    "        [\"七七\", \"兔蛙 智仁\", \"索尔\", \"纳哈特\"],\n",
    "        [\"奏 大雅\", \"\", \"\", \"\"],\n",
    "    ]\n",
    "]"
   ]
  },
  {
   "cell_type": "code",
   "execution_count": null,
   "id": "20e1afcb",
   "metadata": {},
   "outputs": [],
   "source": [
    "if not os.path.exists(\"patch\"):\n",
    "    os.mkdir(\"patch\")"
   ]
  },
  {
   "cell_type": "code",
   "execution_count": null,
   "id": "243e4b7f",
   "metadata": {},
   "outputs": [],
   "source": [
    "for i in range(len(image_path)):\n",
    "    path = image_path[i]\n",
    "    name_array = image_text[i]\n",
    "    img = Image.open(os.path.join(\"org\", path))\n",
    "    draw = ImageDraw.Draw(img)\n",
    "    for j in range(array[1]):\n",
    "        name_row = name_array[j // 2]\n",
    "        for i in range(array[0]):\n",
    "            name = name_row[i // 2]\n",
    "            if not name:\n",
    "                continue\n",
    "            ltbox = font.getbbox(name)\n",
    "            x = i * unit[0]\n",
    "            y = j * unit[1]\n",
    "            if i & 1 and not j & 1:\n",
    "                color = (236, 204, 172, 255)\n",
    "            else:\n",
    "                color = (255, 255, 255, 255)\n",
    "            draw.rectangle([x + 4, y + unit[1] - border[1], x + unit[0] - 5, y + unit[1] - 8], fill=(0, 0, 0, 0), width=0)\n",
    "            draw.rectangle([x + 4, y + unit[1] - 7, x + unit[0] - 5, y + unit[1] - 1], fill=color, width=0)\n",
    "            top = (x + unit[0] // 2, y + unit[1] - border[1])\n",
    "            bbox = (top[0] - (ltbox[0] + ltbox[2]) // 2, top[1], top[0] + (ltbox[0] + ltbox[2]) // 2 - 1, y + unit[1] - 1)\n",
    "            draw.rectangle(bbox, fill=(0, 0, 0, 0), width=0)\n",
    "            draw.text((bbox[0], bbox[1] - ltbox[1] + 1), name, fill=color, font=font)\n",
    "    img.save(os.path.join(\"patch\", path))"
   ]
  },
  {
   "cell_type": "code",
   "execution_count": null,
   "id": "af8185a0",
   "metadata": {},
   "outputs": [],
   "source": [
    "array = [8, 5]\n",
    "unit = [140, 130]\n",
    "\n",
    "font = ImageFont.truetype(font=\"msyh.ttc\", size=15)\n",
    "char_name = [\n",
    "    [\"小黑\", \"柊 春\", \"杏藤 千和\", \"夜月 姬织\"],\n",
    "    [\"真白\", \"冬月 十夜\", \"阳向井 朝日\", \"兔蛙 梓咲\"],\n",
    "    [\"七七\", \"兔蛙 智仁\", \"索尔\", \"纳哈特\"],\n",
    "    [\"女孩子\", \"奏 大雅\", \"奏 大雅\", \"我\"],\n",
    "    [\"其他男性\", \"其他女性\", \"\", \"\"],\n",
    "]\n",
    "img = Image.open(os.path.join(\"org\", \"bl_char.png\"))\n",
    "draw = ImageDraw.Draw(img)\n",
    "y = 0\n",
    "for j in range(array[1]):\n",
    "    name_row = char_name[j]\n",
    "    x = 0\n",
    "    for i in range(array[0]):\n",
    "        name = name_row[i // 2]\n",
    "        if not name:\n",
    "            continue\n",
    "        tagbox = (x, y + unit[1] - 15, x + unit[0] - 1, y + unit[1] - 1)\n",
    "        draw.rectangle((tagbox[0], tagbox[1], tagbox[2], tagbox[1] + 4), fill=(0, 0, 0, 0), width=0)\n",
    "        draw.rectangle((tagbox[0] + 5, tagbox[1] + 5, tagbox[2] - 5, tagbox[3] - 5), fill=(255, 255, 255, 255), width=0)\n",
    "        draw.rectangle((tagbox[0], tagbox[3] - 4, tagbox[2], tagbox[3]), fill=(0, 0, 0, 0), width=0)\n",
    "        ltbox = font.getbbox(name)\n",
    "        width = (ltbox[0] + ltbox[2]) // 2\n",
    "        center = x + unit[0] // 2\n",
    "        draw.rectangle((center - width, tagbox[1], center + width, tagbox[3]), fill=(0, 0, 0, 0), width=0)\n",
    "        draw.text((center - width, tagbox[1] - ltbox[1] + 1), name, fill=(255, 255, 255, 255), font=font)\n",
    "        x += unit[0]\n",
    "    y += unit[1]\n",
    "img.show()"
   ]
  },
  {
   "cell_type": "code",
   "execution_count": null,
   "id": "971192c4",
   "metadata": {},
   "outputs": [],
   "source": []
  }
 ],
 "metadata": {
  "kernelspec": {
   "display_name": "Python 3 (ipykernel)",
   "language": "python",
   "name": "python3"
  },
  "language_info": {
   "codemirror_mode": {
    "name": "ipython",
    "version": 3
   },
   "file_extension": ".py",
   "mimetype": "text/x-python",
   "name": "python",
   "nbconvert_exporter": "python",
   "pygments_lexer": "ipython3",
   "version": "3.10.3"
  }
 },
 "nbformat": 4,
 "nbformat_minor": 5
}
